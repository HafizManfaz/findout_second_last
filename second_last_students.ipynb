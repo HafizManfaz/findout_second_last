{
 "cells": [
  {
   "cell_type": "code",
   "execution_count": 75,
   "metadata": {},
   "outputs": [
    {
     "name": "stdout",
     "output_type": "stream",
     "text": [
      "Berry\n",
      "Harry\n"
     ]
    }
   ],
   "source": [
    "students = [['Harry', 37.21], ['Berry', 37.21], ['Tina', 37.2], ['Akriti', 41], ['Harsh', 39]]\n",
    "students_record = dict(students)\n",
    "students_grades = list(students_record.values())\n",
    "students_grades.sort()\n",
    "for marks in students_grades:\n",
    "    if marks> students_grades[0]:\n",
    "        second_last_marks = marks\n",
    "        break\n",
    "second_last_students=[]\n",
    "for recod_item in students_record.items():\n",
    "    if second_last_marks in recod_item:\n",
    "        second_last_students.append(recod_item[0])\n",
    "second_last_students.sort()\n",
    "for students in second_last_students:\n",
    "    print(students)"
   ]
  },
  {
   "cell_type": "code",
   "execution_count": 82,
   "metadata": {},
   "outputs": [
    {
     "data": {
      "text/plain": [
       "[['red', 45.0], ['df', 32.0], ['df', 45.0]]"
      ]
     },
     "execution_count": 82,
     "metadata": {},
     "output_type": "execute_result"
    }
   ],
   "source": [
    "students = []\n",
    "for _ in range(int(input('Enter Students Quantity :'))):\n",
    "        \n",
    "    name = input('Enter Students Name :')\n",
    "    score = float(input('Enter Students Marks :'))\n",
    "    students.extend([[name,score]])\n",
    "students\n",
    "#students = [['Harry', 37.21], ['Berry', 37.21], ['Tina', 37.2], ['Akriti', 41], ['Harsh', 39]]    \n",
    "students_record = dict(students)\n",
    "students_grades = list(students_record.values())\n",
    "students_grades.sort()\n",
    "for marks in students_grades:\n",
    "    if marks> students_grades[0]:\n",
    "        second_last_marks = marks\n",
    "        break\n",
    "second_last_students=[]\n",
    "for recod_item in students_record.items():\n",
    "    if second_last_marks in recod_item:\n",
    "        second_last_students.append(recod_item[0])\n",
    "second_last_students.sort()\n",
    "for students in second_last_students:\n",
    "    print(students)"
   ]
  },
  {
   "cell_type": "code",
   "execution_count": null,
   "metadata": {},
   "outputs": [],
   "source": []
  }
 ],
 "metadata": {
  "interpreter": {
   "hash": "9eef0c0e7c2c8ee33128e1287f51e88f9b68ef03f5fb044f9e3295e774d371e1"
  },
  "kernelspec": {
   "display_name": "Python 3.8.12 ('Development')",
   "language": "python",
   "name": "python3"
  },
  "language_info": {
   "codemirror_mode": {
    "name": "ipython",
    "version": 3
   },
   "file_extension": ".py",
   "mimetype": "text/x-python",
   "name": "python",
   "nbconvert_exporter": "python",
   "pygments_lexer": "ipython3",
   "version": "3.8.12"
  },
  "orig_nbformat": 4
 },
 "nbformat": 4,
 "nbformat_minor": 2
}
